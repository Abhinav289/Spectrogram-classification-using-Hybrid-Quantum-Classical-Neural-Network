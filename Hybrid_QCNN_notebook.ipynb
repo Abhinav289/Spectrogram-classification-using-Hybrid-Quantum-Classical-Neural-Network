{
  "cells": [
    {
      "cell_type": "markdown",
      "metadata": {
        "id": "7I3a6bU2Z_sh"
      },
      "source": [
        "Part 1: Libraies import, lib comaptibility check with qiskit, cpu/gpu, drive connect"
      ]
    },
    {
      "cell_type": "code",
      "execution_count": null,
      "metadata": {
        "colab": {
          "base_uri": "https://localhost:8080/"
        },
        "id": "LFpYiMP6rL_1",
        "outputId": "06d24705-8430-46af-de6d-e2f2ea199f57"
      },
      "outputs": [
        {
          "output_type": "stream",
          "name": "stdout",
          "text": [
            "Collecting qiskit_machine_learning\n",
            "  Downloading qiskit_machine_learning-0.8.3-py3-none-any.whl.metadata (13 kB)\n",
            "Collecting qiskit<2.0,>=1.0 (from qiskit_machine_learning)\n",
            "  Downloading qiskit-1.4.4-cp39-abi3-manylinux_2_17_x86_64.manylinux2014_x86_64.whl.metadata (12 kB)\n",
            "Requirement already satisfied: numpy>=2.0 in /usr/local/lib/python3.12/dist-packages (from qiskit_machine_learning) (2.0.2)\n",
            "Requirement already satisfied: scipy>=1.4 in /usr/local/lib/python3.12/dist-packages (from qiskit_machine_learning) (1.16.1)\n",
            "Requirement already satisfied: scikit-learn>=1.2 in /usr/local/lib/python3.12/dist-packages (from qiskit_machine_learning) (1.6.1)\n",
            "Requirement already satisfied: setuptools>=40.1 in /usr/local/lib/python3.12/dist-packages (from qiskit_machine_learning) (75.2.0)\n",
            "Requirement already satisfied: dill>=0.3.4 in /usr/local/lib/python3.12/dist-packages (from qiskit_machine_learning) (0.3.8)\n",
            "Collecting rustworkx>=0.15.0 (from qiskit<2.0,>=1.0->qiskit_machine_learning)\n",
            "  Downloading rustworkx-0.17.1-cp39-abi3-manylinux_2_17_x86_64.manylinux2014_x86_64.whl.metadata (10 kB)\n",
            "Requirement already satisfied: sympy>=1.3 in /usr/local/lib/python3.12/dist-packages (from qiskit<2.0,>=1.0->qiskit_machine_learning) (1.13.3)\n",
            "Requirement already satisfied: python-dateutil>=2.8.0 in /usr/local/lib/python3.12/dist-packages (from qiskit<2.0,>=1.0->qiskit_machine_learning) (2.9.0.post0)\n",
            "Collecting stevedore>=3.0.0 (from qiskit<2.0,>=1.0->qiskit_machine_learning)\n",
            "  Downloading stevedore-5.5.0-py3-none-any.whl.metadata (2.2 kB)\n",
            "Requirement already satisfied: typing-extensions in /usr/local/lib/python3.12/dist-packages (from qiskit<2.0,>=1.0->qiskit_machine_learning) (4.15.0)\n",
            "Collecting symengine<0.14,>=0.11 (from qiskit<2.0,>=1.0->qiskit_machine_learning)\n",
            "  Downloading symengine-0.13.0-cp312-cp312-manylinux_2_17_x86_64.manylinux2014_x86_64.whl.metadata (1.2 kB)\n",
            "Requirement already satisfied: joblib>=1.2.0 in /usr/local/lib/python3.12/dist-packages (from scikit-learn>=1.2->qiskit_machine_learning) (1.5.2)\n",
            "Requirement already satisfied: threadpoolctl>=3.1.0 in /usr/local/lib/python3.12/dist-packages (from scikit-learn>=1.2->qiskit_machine_learning) (3.6.0)\n",
            "Requirement already satisfied: six>=1.5 in /usr/local/lib/python3.12/dist-packages (from python-dateutil>=2.8.0->qiskit<2.0,>=1.0->qiskit_machine_learning) (1.17.0)\n",
            "Requirement already satisfied: mpmath<1.4,>=1.1.0 in /usr/local/lib/python3.12/dist-packages (from sympy>=1.3->qiskit<2.0,>=1.0->qiskit_machine_learning) (1.3.0)\n",
            "Downloading qiskit_machine_learning-0.8.3-py3-none-any.whl (231 kB)\n",
            "\u001b[2K   \u001b[90m━━━━━━━━━━━━━━━━━━━━━━━━━━━━━━━━━━━━━━━━\u001b[0m \u001b[32m231.9/231.9 kB\u001b[0m \u001b[31m24.1 MB/s\u001b[0m eta \u001b[36m0:00:00\u001b[0m\n",
            "\u001b[?25hDownloading qiskit-1.4.4-cp39-abi3-manylinux_2_17_x86_64.manylinux2014_x86_64.whl (6.8 MB)\n",
            "\u001b[2K   \u001b[90m━━━━━━━━━━━━━━━━━━━━━━━━━━━━━━━━━━━━━━━━\u001b[0m \u001b[32m6.8/6.8 MB\u001b[0m \u001b[31m74.6 MB/s\u001b[0m eta \u001b[36m0:00:00\u001b[0m\n",
            "\u001b[?25hDownloading rustworkx-0.17.1-cp39-abi3-manylinux_2_17_x86_64.manylinux2014_x86_64.whl (2.2 MB)\n",
            "\u001b[2K   \u001b[90m━━━━━━━━━━━━━━━━━━━━━━━━━━━━━━━━━━━━━━━━\u001b[0m \u001b[32m2.2/2.2 MB\u001b[0m \u001b[31m40.7 MB/s\u001b[0m eta \u001b[36m0:00:00\u001b[0m\n",
            "\u001b[?25hDownloading stevedore-5.5.0-py3-none-any.whl (49 kB)\n",
            "\u001b[2K   \u001b[90m━━━━━━━━━━━━━━━━━━━━━━━━━━━━━━━━━━━━━━━━\u001b[0m \u001b[32m49.5/49.5 kB\u001b[0m \u001b[31m6.2 MB/s\u001b[0m eta \u001b[36m0:00:00\u001b[0m\n",
            "\u001b[?25hDownloading symengine-0.13.0-cp312-cp312-manylinux_2_17_x86_64.manylinux2014_x86_64.whl (49.6 MB)\n",
            "\u001b[2K   \u001b[90m━━━━━━━━━━━━━━━━━━━━━━━━━━━━━━━━━━━━━━━━\u001b[0m \u001b[32m49.6/49.6 MB\u001b[0m \u001b[31m19.1 MB/s\u001b[0m eta \u001b[36m0:00:00\u001b[0m\n",
            "\u001b[?25hInstalling collected packages: symengine, stevedore, rustworkx, qiskit, qiskit_machine_learning\n",
            "Successfully installed qiskit-1.4.4 qiskit_machine_learning-0.8.3 rustworkx-0.17.1 stevedore-5.5.0 symengine-0.13.0\n"
          ]
        }
      ],
      "source": [
        "!pip install qiskit_machine_learning"
      ]
    },
    {
      "cell_type": "code",
      "execution_count": null,
      "metadata": {
        "id": "02BkZ8jmXgug",
        "colab": {
          "base_uri": "https://localhost:8080/"
        },
        "outputId": "cb27efab-3464-44f6-8c23-2fcd516c5922"
      },
      "outputs": [
        {
          "output_type": "stream",
          "name": "stdout",
          "text": [
            "Tue Sep  9 14:25:50 2025       \n",
            "+-----------------------------------------------------------------------------------------+\n",
            "| NVIDIA-SMI 550.54.15              Driver Version: 550.54.15      CUDA Version: 12.4     |\n",
            "|-----------------------------------------+------------------------+----------------------+\n",
            "| GPU  Name                 Persistence-M | Bus-Id          Disp.A | Volatile Uncorr. ECC |\n",
            "| Fan  Temp   Perf          Pwr:Usage/Cap |           Memory-Usage | GPU-Util  Compute M. |\n",
            "|                                         |                        |               MIG M. |\n",
            "|=========================================+========================+======================|\n",
            "|   0  Tesla T4                       Off |   00000000:00:04.0 Off |                    0 |\n",
            "| N/A   46C    P8              9W /   70W |       0MiB /  15360MiB |      0%      Default |\n",
            "|                                         |                        |                  N/A |\n",
            "+-----------------------------------------+------------------------+----------------------+\n",
            "                                                                                         \n",
            "+-----------------------------------------------------------------------------------------+\n",
            "| Processes:                                                                              |\n",
            "|  GPU   GI   CI        PID   Type   Process name                              GPU Memory |\n",
            "|        ID   ID                                                               Usage      |\n",
            "|=========================================================================================|\n",
            "|  No running processes found                                                             |\n",
            "+-----------------------------------------------------------------------------------------+\n"
          ]
        }
      ],
      "source": [
        "!nvidia-smi"
      ]
    },
    {
      "cell_type": "code",
      "execution_count": null,
      "metadata": {
        "id": "99UgBknNZwpo"
      },
      "outputs": [],
      "source": [
        "# !pip install qiskit qiskit-aer"
      ]
    },
    {
      "cell_type": "code",
      "execution_count": null,
      "metadata": {
        "colab": {
          "base_uri": "https://localhost:8080/"
        },
        "id": "7vKKybxTcerq",
        "outputId": "7bca0b9f-b448-4fe6-c1e9-204e9ea6a1cb"
      },
      "outputs": [
        {
          "output_type": "stream",
          "name": "stdout",
          "text": [
            "Collecting qiskit-aer\n",
            "  Downloading qiskit_aer-0.17.1-cp312-cp312-manylinux_2_17_x86_64.manylinux2014_x86_64.whl.metadata (8.3 kB)\n",
            "Requirement already satisfied: qiskit>=1.1.0 in /usr/local/lib/python3.12/dist-packages (from qiskit-aer) (1.4.4)\n",
            "Requirement already satisfied: numpy>=1.16.3 in /usr/local/lib/python3.12/dist-packages (from qiskit-aer) (2.0.2)\n",
            "Requirement already satisfied: scipy>=1.0 in /usr/local/lib/python3.12/dist-packages (from qiskit-aer) (1.16.1)\n",
            "Requirement already satisfied: psutil>=5 in /usr/local/lib/python3.12/dist-packages (from qiskit-aer) (5.9.5)\n",
            "Requirement already satisfied: python-dateutil>=2.8.0 in /usr/local/lib/python3.12/dist-packages (from qiskit-aer) (2.9.0.post0)\n",
            "Requirement already satisfied: six>=1.5 in /usr/local/lib/python3.12/dist-packages (from python-dateutil>=2.8.0->qiskit-aer) (1.17.0)\n",
            "Requirement already satisfied: rustworkx>=0.15.0 in /usr/local/lib/python3.12/dist-packages (from qiskit>=1.1.0->qiskit-aer) (0.17.1)\n",
            "Requirement already satisfied: sympy>=1.3 in /usr/local/lib/python3.12/dist-packages (from qiskit>=1.1.0->qiskit-aer) (1.13.3)\n",
            "Requirement already satisfied: dill>=0.3 in /usr/local/lib/python3.12/dist-packages (from qiskit>=1.1.0->qiskit-aer) (0.3.8)\n",
            "Requirement already satisfied: stevedore>=3.0.0 in /usr/local/lib/python3.12/dist-packages (from qiskit>=1.1.0->qiskit-aer) (5.5.0)\n",
            "Requirement already satisfied: typing-extensions in /usr/local/lib/python3.12/dist-packages (from qiskit>=1.1.0->qiskit-aer) (4.15.0)\n",
            "Requirement already satisfied: symengine<0.14,>=0.11 in /usr/local/lib/python3.12/dist-packages (from qiskit>=1.1.0->qiskit-aer) (0.13.0)\n",
            "Requirement already satisfied: mpmath<1.4,>=1.1.0 in /usr/local/lib/python3.12/dist-packages (from sympy>=1.3->qiskit>=1.1.0->qiskit-aer) (1.3.0)\n",
            "Downloading qiskit_aer-0.17.1-cp312-cp312-manylinux_2_17_x86_64.manylinux2014_x86_64.whl (12.4 MB)\n",
            "\u001b[2K   \u001b[90m━━━━━━━━━━━━━━━━━━━━━━━━━━━━━━━━━━━━━━━━\u001b[0m \u001b[32m12.4/12.4 MB\u001b[0m \u001b[31m22.9 MB/s\u001b[0m eta \u001b[36m0:00:00\u001b[0m\n",
            "\u001b[?25hInstalling collected packages: qiskit-aer\n",
            "Successfully installed qiskit-aer-0.17.1\n"
          ]
        }
      ],
      "source": [
        " !pip install qiskit-aer"
      ]
    },
    {
      "cell_type": "code",
      "execution_count": null,
      "metadata": {
        "colab": {
          "base_uri": "https://localhost:8080/"
        },
        "id": "Vgo1iV7Y4M2Z",
        "outputId": "4ef646cc-6f8c-43f1-92a7-176a99d61224"
      },
      "outputs": [
        {
          "output_type": "stream",
          "name": "stdout",
          "text": [
            "Mounted at /content/drive\n"
          ]
        }
      ],
      "source": [
        "from google.colab import drive\n",
        "drive.mount('/content/drive')"
      ]
    },
    {
      "cell_type": "code",
      "execution_count": null,
      "metadata": {
        "id": "B-ajNMorIR44"
      },
      "outputs": [],
      "source": [
        "import torch\n",
        "import torch.nn as nn\n",
        "import torch.optim as optim\n",
        "from qiskit import QuantumCircuit, transpile\n",
        "from qiskit_aer import AerSimulator\n",
        "import numpy as np\n",
        "from torch.utils.data import Dataset, DataLoader\n",
        "from torchvision import transforms\n",
        "from PIL import Image\n",
        "import glob\n",
        "import pandas as pd\n",
        "from sklearn.preprocessing import LabelEncoder\n",
        "import os\n",
        "from sklearn.model_selection import train_test_split\n",
        "from torch.utils.data import Subset\n",
        "import matplotlib.pyplot as plt"
      ]
    },
    {
      "cell_type": "code",
      "execution_count": null,
      "metadata": {
        "colab": {
          "base_uri": "https://localhost:8080/"
        },
        "id": "MVA1841XUVIt",
        "outputId": "5a0ee15b-896a-44fe-eb4c-3d4d04d87cab"
      },
      "outputs": [
        {
          "output_type": "stream",
          "name": "stdout",
          "text": [
            "cuda\n"
          ]
        }
      ],
      "source": [
        "device = torch.device(\"cuda\" if torch.cuda.is_available() else \"cpu\")\n",
        "print(device)"
      ]
    },
    {
      "cell_type": "markdown",
      "metadata": {
        "id": "TfwGzzhFaPMA"
      },
      "source": [
        "Part 2: reading diagnosis file and label encoding diagnosis"
      ]
    },
    {
      "cell_type": "code",
      "execution_count": null,
      "metadata": {
        "id": "274OiA84Ii6B"
      },
      "outputs": [],
      "source": [
        "# Read CSV and encode labels\n",
        "csv_file = \"/content/drive/MyDrive/input_files/patient_diagnosis.csv\"\n",
        "df = pd.read_csv(csv_file, header=None)\n",
        "df.columns = ['p_no', 'diagnosis']\n",
        "label_encoder = LabelEncoder()\n",
        "df['encoded_diagnosis'] = label_encoder.fit_transform(df['diagnosis'])\n",
        "\n"
      ]
    },
    {
      "cell_type": "markdown",
      "metadata": {
        "id": "jiC2_3b_ach_"
      },
      "source": [
        "Part 3: image loading class\n",
        "and image transformation"
      ]
    },
    {
      "cell_type": "code",
      "execution_count": null,
      "metadata": {
        "id": "wTsA748EaalO"
      },
      "outputs": [],
      "source": [
        "# Custom Dataset\n",
        "class SpectrogramDataset(Dataset):\n",
        "    def __init__(self, image_folder,label, dataframe, transform=None):\n",
        "        self.label = label\n",
        "        self.image_paths = glob.glob(os.path.join(image_folder, \"*.png\"))\n",
        "        self.df = dataframe\n",
        "        self.transform = transform\n",
        "\n",
        "    def __len__(self):\n",
        "        return len(self.image_paths)\n",
        "\n",
        "    def __getitem__(self, idx):\n",
        "        img_path = self.image_paths[idx]\n",
        "       # patient_id = int(os.path.basename(img_path).split(\"_\")[0])\n",
        "       # label = self.df[self.df['p_no'] == patient_id]['encoded_diagnosis'].values[0]'''\n",
        "\n",
        "        image = Image.open(img_path)\n",
        "        if self.transform:\n",
        "            image = self.transform(image)\n",
        "\n",
        "        return image, self.label"
      ]
    },
    {
      "cell_type": "markdown",
      "source": [
        "checkpoint"
      ],
      "metadata": {
        "id": "S0pgvHRT3s6v"
      }
    },
    {
      "cell_type": "code",
      "execution_count": null,
      "metadata": {
        "id": "yUWfPw9iJEmO"
      },
      "outputs": [],
      "source": [
        "# Define image transform\n",
        "transform = transforms.Compose([\n",
        "    transforms.Resize((32, 32)),       # Resize to match CNN input (or your target)\n",
        "    transforms.Grayscale(num_output_channels=1),  # Ensure grayscale\n",
        "    transforms.ToTensor(),\n",
        "    transforms.Normalize((0.5,), (0.5,))\n",
        "])"
      ]
    },
    {
      "cell_type": "markdown",
      "metadata": {
        "id": "LoIldQAfawXf"
      },
      "source": [
        "Part 4: images loading from drive"
      ]
    },
    {
      "cell_type": "code",
      "execution_count": null,
      "metadata": {
        "id": "1xNV_XUclji9"
      },
      "outputs": [],
      "source": [
        "full_dataset = []"
      ]
    },
    {
      "cell_type": "markdown",
      "metadata": {
        "id": "FLceNSshvdaf"
      },
      "source": [
        "Chronic"
      ]
    },
    {
      "cell_type": "code",
      "execution_count": null,
      "metadata": {
        "colab": {
          "base_uri": "https://localhost:8080/"
        },
        "id": "adwLkupfWrS8",
        "outputId": "8ca222b2-490e-4445-8ca1-c0414af0c2b9"
      },
      "outputs": [
        {
          "output_type": "execute_result",
          "data": {
            "text/plain": [
              "(793, __main__.SpectrogramDataset, 793)"
            ]
          },
          "metadata": {},
          "execution_count": 11
        }
      ],
      "source": [
        "image_folder = \"/content/drive/MyDrive/augmented_spectrograms/COPD\"\n",
        "help = SpectrogramDataset(image_folder=image_folder, label=0, dataframe=df, transform=transform)\n",
        "\n",
        "full_dataset.extend(help)\n",
        "\n",
        "len(help), type(help), len(full_dataset)"
      ]
    },
    {
      "cell_type": "markdown",
      "metadata": {
        "id": "pmK2P53ZvbSF"
      },
      "source": [
        "Healthy"
      ]
    },
    {
      "cell_type": "code",
      "execution_count": null,
      "metadata": {
        "colab": {
          "base_uri": "https://localhost:8080/"
        },
        "id": "V-ejhd87WrYU",
        "outputId": "0e96f1e5-72c3-4109-9fa4-81561b2f4631"
      },
      "outputs": [
        {
          "output_type": "execute_result",
          "data": {
            "text/plain": [
              "(952, __main__.SpectrogramDataset, 1745)"
            ]
          },
          "metadata": {},
          "execution_count": 12
        }
      ],
      "source": [
        "image_folder = \"/content/drive/MyDrive/augmented_spectrograms/Healthy\"\n",
        "help = SpectrogramDataset(image_folder=image_folder, label=1, dataframe=df, transform=transform)\n",
        "\n",
        "full_dataset.extend(help)\n",
        "\n",
        "len(help), type(help), len(full_dataset)"
      ]
    },
    {
      "cell_type": "markdown",
      "metadata": {
        "id": "Ss84wU9RvYru"
      },
      "source": [
        "Non- Chronic"
      ]
    },
    {
      "cell_type": "code",
      "execution_count": null,
      "metadata": {
        "id": "YaX0O38RWrd8",
        "colab": {
          "base_uri": "https://localhost:8080/"
        },
        "outputId": "4ba144d4-5d8c-4591-e1a0-8af8d7a34f11"
      },
      "outputs": [
        {
          "output_type": "execute_result",
          "data": {
            "text/plain": [
              "(1028, __main__.SpectrogramDataset, 2773)"
            ]
          },
          "metadata": {},
          "execution_count": 13
        }
      ],
      "source": [
        "image_folder = \"/content/drive/MyDrive/augmented_spectrograms/Pneumonia\"\n",
        "help = SpectrogramDataset(image_folder=image_folder, label=2, dataframe=df, transform=transform)\n",
        "\n",
        "full_dataset.extend(help)\n",
        "\n",
        "len(help), type(help), len(full_dataset)"
      ]
    },
    {
      "cell_type": "code",
      "execution_count": null,
      "metadata": {
        "id": "ZnDTBGN7VSKd",
        "colab": {
          "base_uri": "https://localhost:8080/"
        },
        "outputId": "0f2dd8c4-cf4f-4f7f-9ac9-12433e371909"
      },
      "outputs": [
        {
          "output_type": "execute_result",
          "data": {
            "text/plain": [
              "(tensor([[[-0.1922, -0.8039, -0.8902,  ..., -0.8902, -0.8510, -0.5373],\n",
              "          [-0.1922, -0.8039, -0.8902,  ..., -0.8902, -0.8510, -0.5216],\n",
              "          [-0.1922, -0.8039, -0.8902,  ..., -0.8902, -0.8510, -0.5216],\n",
              "          ...,\n",
              "          [ 0.6863,  0.6549,  0.5529,  ...,  0.4588,  0.3333,  0.5451],\n",
              "          [ 0.6627,  0.5451,  0.2863,  ...,  0.6235,  0.6000,  0.6078],\n",
              "          [ 0.2549, -0.0196, -0.3725,  ...,  0.2863,  0.3176,  0.4588]]]),\n",
              " 0)"
            ]
          },
          "metadata": {},
          "execution_count": 14
        }
      ],
      "source": [
        "full_dataset[0]"
      ]
    },
    {
      "cell_type": "markdown",
      "metadata": {
        "id": "6nKByg53a2bx"
      },
      "source": [
        "Part 5: image dataset splitting and loaders"
      ]
    },
    {
      "cell_type": "code",
      "execution_count": null,
      "metadata": {
        "id": "fytt0ruaI-6J",
        "colab": {
          "base_uri": "https://localhost:8080/"
        },
        "outputId": "a8953e4c-dcc4-493d-f658-4c5b641acafb"
      },
      "outputs": [
        {
          "output_type": "stream",
          "name": "stdout",
          "text": [
            "Train size: 1941\n",
            "Test size: 832\n"
          ]
        }
      ],
      "source": [
        "# Train-test split (e.g., 80-20)\n",
        "train_size = int(0.70 * len(full_dataset))\n",
        "# val_size = int(0.25*len(full_dataset))\n",
        "# test_size = len(full_dataset) - train_size - val_size\n",
        "test_size = len(full_dataset) - train_size\n",
        "\n",
        "# train_dataset, valid_dataset, test_dataset = torch.utils.data.random_split(full_dataset, [train_size, val_size,test_size])\n",
        "train_dataset,test_dataset = torch.utils.data.random_split(full_dataset, [train_size,test_size])\n",
        "print(f\"Train size: {len(train_dataset)}\")\n",
        "# print(f\"Validation size: {len(valid_dataset)}\")\n",
        "print(f\"Test size: {len(test_dataset)}\")"
      ]
    },
    {
      "cell_type": "markdown",
      "metadata": {
        "id": "0sQIDjORwsKN"
      },
      "source": [
        "batch size, train-test-valid size, epochs"
      ]
    },
    {
      "cell_type": "code",
      "execution_count": null,
      "metadata": {
        "id": "qpfjUxAmwjQ2"
      },
      "outputs": [],
      "source": [
        "# DataLoaders\n",
        "trainloader = DataLoader(train_dataset, batch_size=32, shuffle=True)\n",
        "testloader = DataLoader(test_dataset, batch_size=32, shuffle=False)"
      ]
    },
    {
      "cell_type": "code",
      "execution_count": null,
      "metadata": {
        "id": "yIydFEHYO2MY",
        "colab": {
          "base_uri": "https://localhost:8080/"
        },
        "outputId": "b01902b3-aa70-411f-d82b-d9326a0c5820"
      },
      "outputs": [
        {
          "output_type": "execute_result",
          "data": {
            "text/plain": [
              "(tensor([[[-0.5294, -0.7020, -0.8118,  ..., -0.8667, -0.8824, -0.8039],\n",
              "          [-0.4902, -0.6941, -0.8118,  ..., -0.8667, -0.8745, -0.8039],\n",
              "          [-0.3412, -0.6471, -0.7882,  ..., -0.8275, -0.6549, -0.5059],\n",
              "          ...,\n",
              "          [ 0.5765,  0.5294,  0.4431,  ...,  0.5059,  0.5843,  0.6235],\n",
              "          [ 0.5922,  0.5216,  0.6157,  ...,  0.6471,  0.6392,  0.6471],\n",
              "          [-0.0039, -0.1373,  0.0118,  ...,  0.1451,  0.0667,  0.0980]]]),\n",
              " 2)"
            ]
          },
          "metadata": {},
          "execution_count": 17
        }
      ],
      "source": [
        "test_dataset[0]"
      ]
    },
    {
      "cell_type": "code",
      "execution_count": null,
      "metadata": {
        "id": "kpVnE7UCTzJi"
      },
      "outputs": [],
      "source": [
        "# import matplotlib.pyplot as plt\n",
        "# import numpy as np\n",
        "\n",
        "# images, labels = next(iter(trainloader))\n",
        "# print(images.shape)  # Output: torch.Size([32, 4, 4, 4])  -> 32 images, 4 channel, 4x4 size\n",
        "# print(labels[:5])    # Print first 5 labels\n",
        "# n_img = 3\n",
        "# # Function to display RGBA images\n",
        "# def show_images(images, labels):\n",
        "#     fig, axes = plt.subplots(1, n_img, figsize=(12, 3))\n",
        "#     for i in range(n_img):\n",
        "#         img = images[i].permute(1, 2, 0).numpy()  # [C, H, W] -> [H, W, C]\n",
        "#         if img.shape[2] == 4:  # Drop alpha channel if present\n",
        "#             img = img[:, :, :3]\n",
        "#         img = (img * 0.5) + 0.5  # De-normalize (from [-1, 1] to [0, 1])\n",
        "#         axes[i].imshow(img)\n",
        "#         axes[i].set_title(f'Label: {labels[i].item()}')\n",
        "#         axes[i].axis('off')\n",
        "#     plt.tight_layout()\n",
        "#     plt.show()\n",
        "\n",
        "# show_images(images, labels)\n"
      ]
    },
    {
      "cell_type": "markdown",
      "metadata": {
        "id": "6D52GNSPbOHf"
      },
      "source": [
        "Part 6: configuration and search space"
      ]
    },
    {
      "cell_type": "markdown",
      "metadata": {
        "id": "Ata90Y0bxnH_"
      },
      "source": [
        "No of qubits, optimal design of quantum circuit, SHIFT"
      ]
    },
    {
      "cell_type": "markdown",
      "source": [
        "checkpoint"
      ],
      "metadata": {
        "id": "YRtDWXQM30w0"
      }
    },
    {
      "cell_type": "code",
      "execution_count": null,
      "metadata": {
        "id": "2kXewqzEjNk5"
      },
      "outputs": [],
      "source": [
        "config = {\n",
        "     \"cnn_filters\": [32,64,128],  # This means 2 Conv+Pool layers\n",
        "      \"n_qubits\": 4,  # Number of qubits\n",
        "      \"lr\": 0.001,      # Learning Rate for Adam optimizer\n",
        "      \"batch_size\": 32,\n",
        "      \"epochs\": 20,\n",
        "      \"weight_decay\": 1e-5,\n",
        "     \"dropout_p\": [0.3, 0.5]\n",
        "\n",
        "}\n",
        "\n",
        "search_space = {\n",
        "\n",
        "    \"cnn_filters\": [\n",
        "        [16, 32],          # A shallower 2-layer network\n",
        "        [16, 32, 64],      # current 3-layer network (the baseline)\n",
        "        [32, 64, 128]      # A 3-layer network with more filters\n",
        "    ],\n",
        "\n",
        "\n",
        "    \"n_qubits\": [2, 4],\n",
        "\n",
        "\n",
        "    \"lr\": [1e-2, 1e-3, 1e-4],  # [0.01, 0.001, 0.0001]\n",
        "\n",
        "    \"batch_size\": [32,64,128],\n",
        "    \"epochs\": [10,15,30,50,100],\n",
        "    \"weight_decay\": [1e-5, 1e-4],\n",
        "    \"dropout_p\": [0.3, 0.5]\n",
        "\n",
        "}"
      ]
    },
    {
      "cell_type": "markdown",
      "metadata": {
        "id": "LN6ct70nbUE-"
      },
      "source": [
        "Part 7: quantum circuit design"
      ]
    },
    {
      "cell_type": "code",
      "execution_count": null,
      "metadata": {
        "id": "xSiyQ2LaVLt6"
      },
      "outputs": [],
      "source": [
        "from qiskit import QuantumCircuit\n",
        "from qiskit.circuit import Parameter\n",
        "from qiskit.quantum_info import Statevector, Pauli, SparsePauliOp\n",
        "import numpy as np\n",
        "\n",
        "NUM_QUBITS = config[\"n_qubits\"]\n",
        "QC_OUTPUTS = [f\"{i:0{NUM_QUBITS}b}\" for i in range(2**NUM_QUBITS)] # Dynamically set QC_OUTPUTS\n",
        "n_conv_layers = len(config[\"cnn_filters\"])\n",
        "final_img_size = 32 // (2**n_conv_layers)\n",
        "if final_img_size < 1:\n",
        "    raise ValueError(\"Too many conv layers for a 32x32 image. Final image size is less than 1.\")\n",
        "\n",
        "last_num_filters = config[\"cnn_filters\"][-1]\n",
        "fc4_input_size = last_num_filters * final_img_size**2\n",
        "\n",
        "class QiskitCircuit():\n",
        "    def __init__(self, n_qubits):\n",
        "        self.n_qubits = n_qubits\n",
        "        self.thetas = [Parameter(f'theta_{i}') for i in range(2 * n_qubits)]\n",
        "        self.build_circuit()\n",
        "\n",
        "    def build_circuit(self):\n",
        "        self.circuit = QuantumCircuit(self.n_qubits)\n",
        "\n",
        "        self.circuit.h(range(self.n_qubits)) # hadamard\n",
        "        for i in range(self.n_qubits):\n",
        "            self.circuit.ry(self.thetas[i], i) # RY gate for each qubit\n",
        "\n",
        "        # simplified entanglement\n",
        "        for i in range(self.n_qubits - 1):\n",
        "            self.circuit.cx(i, i + 1)\n",
        "\n",
        "        for i in range(self.n_qubits):\n",
        "            self.circuit.ry(self.thetas[i + self.n_qubits], i)\n",
        "\n",
        "    def run(self, input_params):\n",
        "        param_dict = {self.thetas[i]: float(input_params[i].item()) for i in range(2 * self.n_qubits)}\n",
        "        bound_circuit = self.circuit.assign_parameters(param_dict, inplace=False)\n",
        "\n",
        "        # Run with statevector simulator\n",
        "        state = Statevector.from_instruction(bound_circuit)\n",
        "\n",
        "        # Probabilities over computational basis\n",
        "        probs = state.probabilities_dict()\n",
        "\n",
        "        # Create output vector in order of QC_OUTPUTS\n",
        "        expectation = np.array([probs.get(key, 0.0) for key in QC_OUTPUTS], dtype=np.float32)\n",
        "        return expectation\n"
      ]
    },
    {
      "cell_type": "code",
      "execution_count": null,
      "metadata": {
        "id": "3x1PHm0uj0aY"
      },
      "outputs": [],
      "source": [
        "\n",
        "# try:\n",
        "#     # Create a temporary instance just for drawing\n",
        "#     temp_qiskit_circuit = QiskitCircuit(NUM_QUBITS)\n",
        "#     circuit_structure = temp_qiskit_circuit.circuit\n",
        "#     circuit_structure.draw('mpl', style='clifford')\n",
        "#     plt.suptitle(\"Quantum Circuit Structure (Blueprint)\")\n",
        "#     plt.show()\n",
        "#     print(\"-> Matplotlib plot displayed.\")\n",
        "# except Exception as e:\n",
        "#     print(f\"-> Matplotlib drawing failed ({e}). Drawing circuit as text:\")\n",
        "#     try:\n",
        "#         # Recreate instance if needed, just to get text draw\n",
        "#         temp_qiskit_circuit = QiskitCircuit(NUM_QUBITS)\n",
        "#         print(temp_qiskit_circuit.circuit.draw('text'))\n",
        "#     except Exception as e2:\n",
        "#         print(f\"-> Text drawing also failed: {e2}\")\n",
        "# print(\"---------------------------------------------\")"
      ]
    },
    {
      "cell_type": "code",
      "execution_count": null,
      "metadata": {
        "id": "ttZtOy8tYn9A",
        "colab": {
          "base_uri": "https://localhost:8080/"
        },
        "outputId": "0c94496d-17a9-4304-a168-e802125ad8ad"
      },
      "outputs": [
        {
          "output_type": "stream",
          "name": "stdout",
          "text": [
            "     ┌───┐┌─────────────┐     ┌─────────────┐                              \n",
            "q_0: ┤ H ├┤ Ry(theta_0) ├──■──┤ Ry(theta_4) ├──────────────────────────────\n",
            "     ├───┤├─────────────┤┌─┴─┐└─────────────┘┌─────────────┐               \n",
            "q_1: ┤ H ├┤ Ry(theta_1) ├┤ X ├───────■───────┤ Ry(theta_5) ├───────────────\n",
            "     ├───┤├─────────────┤└───┘     ┌─┴─┐     └─────────────┘┌─────────────┐\n",
            "q_2: ┤ H ├┤ Ry(theta_2) ├──────────┤ X ├────────────■───────┤ Ry(theta_6) ├\n",
            "     ├───┤├─────────────┤          └───┘          ┌─┴─┐     ├─────────────┤\n",
            "q_3: ┤ H ├┤ Ry(theta_3) ├─────────────────────────┤ X ├─────┤ Ry(theta_7) ├\n",
            "     └───┘└─────────────┘                         └───┘     └─────────────┘\n"
          ]
        }
      ],
      "source": [
        "temp_qiskit_circuit = QiskitCircuit(NUM_QUBITS)\n",
        "print(temp_qiskit_circuit.circuit.draw('text'))"
      ]
    },
    {
      "cell_type": "markdown",
      "metadata": {
        "id": "eYG_70nvbdv5"
      },
      "source": [
        "Part 8: pytorch and our circuit for both propagations (param- shift rule)"
      ]
    },
    {
      "cell_type": "code",
      "execution_count": null,
      "metadata": {
        "id": "CyCDbwCCUiEr"
      },
      "outputs": [],
      "source": [
        "import torch\n",
        "from torch.autograd import Function\n",
        "import numpy as np\n",
        "\n",
        "# Constants\n",
        "\n",
        "SHIFT = np.pi / 2\n",
        "\n",
        "# Updated: no need to use AerSimulator\n",
        "class TorchCircuit(Function):\n",
        "\n",
        "    @staticmethod\n",
        "    def forward(ctx, input_params):\n",
        "        if not hasattr(ctx, 'qiskit_circuit'):\n",
        "            ctx.qiskit_circuit = QiskitCircuit(NUM_QUBITS)\n",
        "\n",
        "\n",
        "\n",
        "        input_params = input_params.detach().clone().requires_grad_(False).to(device) # move input to device\n",
        "        exp_vals = ctx.qiskit_circuit.run(input_params)\n",
        "\n",
        "        result = torch.tensor(exp_vals, dtype=torch.float32, device=device) # move the result tensor to the device\n",
        "        ctx.save_for_backward(input_params, result)\n",
        "\n",
        "        return result\n",
        "\n",
        "    @staticmethod\n",
        "    def backward(ctx, grad_output):\n",
        "        input_params, _ = ctx.saved_tensors\n",
        "        gradients = []\n",
        "\n",
        "        # Parameter shift rule for gradient estimation\n",
        "        for i in range(2 * NUM_QUBITS):\n",
        "            shifted_right = input_params.clone()\n",
        "            shifted_left = input_params.clone()\n",
        "            shifted_right[i] += SHIFT\n",
        "            shifted_left[i] -= SHIFT\n",
        "\n",
        "            exp_right = ctx.qiskit_circuit.run(shifted_right)\n",
        "            exp_left = ctx.qiskit_circuit.run(shifted_left)\n",
        "\n",
        "            grad = (torch.tensor(exp_right, device=device) - torch.tensor(exp_left, device=device)) / 2.0\n",
        "            gradients.append(grad)\n",
        "\n",
        "        gradients = torch.stack(gradients, dim=1).to(device)  # shape: [output_dim, input_dim], move to device\n",
        "        grad_input = torch.matmul(grad_output.float().unsqueeze(0), gradients).squeeze(0)\n",
        "\n",
        "        return grad_input"
      ]
    },
    {
      "cell_type": "markdown",
      "metadata": {
        "id": "4wuknjAvbszf"
      },
      "source": [
        "Part 9: cnn-qc architecure design"
      ]
    },
    {
      "cell_type": "code",
      "execution_count": null,
      "metadata": {
        "id": "TEZ6QscrWeRu"
      },
      "outputs": [],
      "source": [
        "import torch\n",
        "import torch.nn as nn\n",
        "import torch.nn.functional as F\n",
        "\n",
        "\n",
        "class Net(nn.Module):\n",
        "    def __init__(self):\n",
        "        super(Net, self).__init__()\n",
        "\n",
        "\n",
        "        self.conv_layers = nn.ModuleList()\n",
        "        self.pool = nn.MaxPool2d(2, 2)\n",
        "        in_channels = 1  # for grayscale image\n",
        "        for out_channels in config[\"cnn_filters\"]:\n",
        "            self.conv_layers.append(\n",
        "                nn.Conv2d(in_channels, out_channels, kernel_size=3, padding=1)\n",
        "            )\n",
        "            in_channels = out_channels # The output of this layer is the input for the next\n",
        "        self.dropout = nn.Dropout(p=config[\"dropout_p\"][1]) # bcz\n",
        "        self.fc4 = nn.Linear(fc4_input_size, 2 * NUM_QUBITS)\n",
        "        self.qc = TorchCircuit.apply  # Quantum layer\n",
        "\n",
        "        self.fc5 = nn.Linear(len(QC_OUTPUTS), 3)  # Final classifier layer\n",
        "\n",
        "    def forward(self, x):\n",
        "\n",
        "        for conv in self.conv_layers:\n",
        "            x = self.pool(F.relu(conv(x)))\n",
        "\n",
        "        x = x.view(x.size(0), -1)  # Flatten → [batch_size, 64*4*4 = 1024]\n",
        "        x = self.dropout(x)\n",
        "        x = self.fc4(x)            # → [batch_size, 2 * NUM_QUBITS]\n",
        "        x = np.pi * torch.tanh(x)\n",
        "\n",
        "        # Quantum layer is run on each input in batch\n",
        "        qc_out = []\n",
        "        for i in range(x.size(0)):\n",
        "            out = self.qc(x[i])\n",
        "            qc_out.append(out)\n",
        "\n",
        "        x = torch.stack(qc_out)  # → [batch_size, len(QC_OUTPUTS)]\n",
        "        x = F.relu(x)\n",
        "        x = self.fc5(x.float())\n",
        "\n",
        "        return x\n",
        "\n",
        "    def predict(self, x):\n",
        "        with torch.no_grad():\n",
        "            pred = self.forward(x)\n",
        "            pred = F.softmax(pred, dim=1)\n",
        "            return torch.argmax(pred, dim=1).item()"
      ]
    },
    {
      "cell_type": "markdown",
      "metadata": {
        "id": "w58RcbuDb-R_"
      },
      "source": [
        "Part 10: training with 1 epoch and check"
      ]
    },
    {
      "cell_type": "code",
      "execution_count": null,
      "metadata": {
        "id": "qBZj8q1i7n1H"
      },
      "outputs": [],
      "source": [
        "# import torch.nn as nn\n",
        "# import torch.nn.functional as F\n",
        "# import torch.optim as optim\n",
        "\n",
        "# # Initialize model, loss function, and optimizer\n",
        "# network = Net().to(device)\n",
        "# optimizer = optim.Adam(network.parameters(), lr=0.001, weight_decay=config[\"weight_decay\"])\n",
        "# loss_func = nn.CrossEntropyLoss()\n",
        "\n",
        "# # Training loop\n",
        "# epochs = 1  # Let's just run for one epoch to debug\n",
        "# train_losses = []\n",
        "\n",
        "# print(\"--- Starting Training ---\")\n",
        "# print(f\"Model is on device: {next(network.parameters()).device}\")\n",
        "\n",
        "\n",
        "\n",
        "# for epoch in range(epochs):\n",
        "#     network.train()\n",
        "#     running_loss = 0.0\n",
        "\n",
        "\n",
        "#     for batch_idx, (data, target) in enumerate(trainloader):\n",
        "\n",
        "#         data = data.to(device)\n",
        "#         target = target.to(device)\n",
        "\n",
        "#         optimizer.zero_grad()\n",
        "\n",
        "#         # Forward pass\n",
        "#         output = network(data)\n",
        "\n",
        "#         # # DEBUGGING BLOCK ---\n",
        "#         print(f\"\\n Info for Batch {batch_idx+1} ---\")\n",
        "#         print(f\"Model Output  Shape: {output.shape}\")\n",
        "#         print(f\"Model Output  Dtype: {output.dtype}\")\n",
        "\n",
        "\n",
        "#         print(f\"Labels (target) Shape:      {target.shape}\")\n",
        "#         print(f\"Labels (target) Dtype:      {target.dtype}\")\n",
        "\n",
        "#         print(f\"Unique Label values in this batch: {torch.unique(target)}\")\n",
        "#         print(f\"Minimum Label value in batch:    {torch.min(target)}\")\n",
        "#         print(f\"Maximum Label value in batch:    {torch.max(target)}\")\n",
        "\n",
        "\n",
        "#         try:\n",
        "\n",
        "#             loss = loss_func(output, target) # check point\n",
        "\n",
        "#             # If the code reaches here, the loss calculation was successful for this batch\n",
        "#             # print(\"Loss calculation successful for this batch.\")\n",
        "\n",
        "#             # Backward pass\n",
        "#             loss.backward()\n",
        "#             optimizer.step()\n",
        "\n",
        "#             running_loss += loss.item()\n",
        "\n",
        "#             print(f\"\\r[Epoch {epoch+1}/{epochs}] Batch {batch_idx+1}/{len(trainloader)} - Loss: {loss.item():.4f}\", end='')\n",
        "\n",
        "#         except RuntimeError as e:\n",
        "#             print(f\"RUNTIME ERROR CAUGHT: {e}\")\n",
        "#             # print(\"!!! The debugging information above shows the state of tensors right before the error.\")\n",
        "#             break # Stop the loop after the error\n",
        "\n",
        "#     if batch_idx > 0 and 'e' in locals():\n",
        "#       break\n",
        "\n",
        "#     avg_loss = running_loss / len(trainloader)\n",
        "#     train_losses.append(avg_loss)\n",
        "#     print(f\"\\nEpoch {epoch+1} complete. Average Loss: {avg_loss:.4f}\\n\")"
      ]
    },
    {
      "cell_type": "markdown",
      "metadata": {
        "id": "Z3QrO6WAcDNv"
      },
      "source": [
        "Part 11: training"
      ]
    },
    {
      "cell_type": "code",
      "execution_count": null,
      "metadata": {
        "id": "EVO2bzR4VnG8",
        "colab": {
          "base_uri": "https://localhost:8080/"
        },
        "outputId": "7b21c810-9f2a-4a77-a886-febeea0b812f"
      },
      "outputs": [
        {
          "output_type": "stream",
          "name": "stdout",
          "text": [
            "[Epoch 1/20] Batch 61/61 - Loss: 1.0886\n",
            "Epoch 1 complete. Average Loss: 1.0837\n",
            "[Epoch 2/20] Batch 61/61 - Loss: 1.0479\n",
            "Epoch 2 complete. Average Loss: 1.0365\n",
            "[Epoch 3/20] Batch 61/61 - Loss: 0.9602\n",
            "Epoch 3 complete. Average Loss: 0.9875\n",
            "[Epoch 4/20] Batch 61/61 - Loss: 0.9198\n",
            "Epoch 4 complete. Average Loss: 0.9435\n",
            "[Epoch 5/20] Batch 61/61 - Loss: 0.8364\n",
            "Epoch 5 complete. Average Loss: 0.9005\n",
            "[Epoch 6/20] Batch 61/61 - Loss: 0.8580\n",
            "Epoch 6 complete. Average Loss: 0.8614\n",
            "[Epoch 7/20] Batch 61/61 - Loss: 0.8467\n",
            "Epoch 7 complete. Average Loss: 0.8161\n",
            "[Epoch 8/20] Batch 61/61 - Loss: 0.7453\n",
            "Epoch 8 complete. Average Loss: 0.7773\n",
            "[Epoch 9/20] Batch 61/61 - Loss: 0.7737\n",
            "Epoch 9 complete. Average Loss: 0.7435\n",
            "[Epoch 10/20] Batch 61/61 - Loss: 0.8046\n",
            "Epoch 10 complete. Average Loss: 0.7022\n",
            "[Epoch 11/20] Batch 61/61 - Loss: 0.7132\n",
            "Epoch 11 complete. Average Loss: 0.6804\n",
            "[Epoch 12/20] Batch 61/61 - Loss: 0.5684\n",
            "Epoch 12 complete. Average Loss: 0.6285\n",
            "[Epoch 13/20] Batch 61/61 - Loss: 0.5591\n",
            "Epoch 13 complete. Average Loss: 0.5838\n",
            "[Epoch 14/20] Batch 61/61 - Loss: 0.4769\n",
            "Epoch 14 complete. Average Loss: 0.5538\n",
            "[Epoch 15/20] Batch 61/61 - Loss: 0.5400\n",
            "Epoch 15 complete. Average Loss: 0.5140\n",
            "[Epoch 16/20] Batch 61/61 - Loss: 0.4392\n",
            "Epoch 16 complete. Average Loss: 0.4725\n",
            "[Epoch 17/20] Batch 61/61 - Loss: 0.4096\n",
            "Epoch 17 complete. Average Loss: 0.4432\n",
            "[Epoch 18/20] Batch 61/61 - Loss: 0.4314\n",
            "Epoch 18 complete. Average Loss: 0.4250\n",
            "[Epoch 19/20] Batch 61/61 - Loss: 0.3428\n",
            "Epoch 19 complete. Average Loss: 0.3774\n",
            "[Epoch 20/20] Batch 61/61 - Loss: 0.2887\n",
            "Epoch 20 complete. Average Loss: 0.3523\n"
          ]
        }
      ],
      "source": [
        "import torch.nn as nn\n",
        "import torch.nn.functional as F\n",
        "import torch.optim as optim\n",
        "\n",
        "# Initialize model, loss function, and optimizer\n",
        "network = Net().to(device)  # Ensure model is on the correct device\n",
        "optimizer = optim.Adam(network.parameters(), lr=0.001, weight_decay=config[\"weight_decay\"])\n",
        "loss_func = nn.CrossEntropyLoss()\n",
        "\n",
        "# Training loopn\n",
        "\n",
        "train_losses = []\n",
        "\n",
        "for epoch in range(config['epochs']):\n",
        "    network.train()\n",
        "    running_loss = 0.0\n",
        "\n",
        "    for batch_idx, (data, target) in enumerate(trainloader):\n",
        "        data, target = data.to(device), target.to(device)  # Move to device\n",
        "\n",
        "        optimizer.zero_grad()\n",
        "\n",
        "        # Forward pass\n",
        "        output = network(data)\n",
        "        loss = loss_func(output, target)\n",
        "\n",
        "        # Backward pass\n",
        "        loss.backward()\n",
        "        optimizer.step()\n",
        "\n",
        "        running_loss += loss.item()\n",
        "\n",
        "        print(f\"\\r[Epoch {epoch+1}/{config['epochs']}] Batch {batch_idx+1}/{len(trainloader)} - Loss: {loss.item():.4f}\", end='')\n",
        "\n",
        "    avg_loss = running_loss / len(trainloader)\n",
        "    train_losses.append(avg_loss)\n",
        "    print(f\"\\nEpoch {epoch+1} complete. Average Loss: {avg_loss:.4f}\")\n"
      ]
    },
    {
      "cell_type": "code",
      "execution_count": null,
      "metadata": {
        "id": "CDOpTQ89buDz"
      },
      "outputs": [],
      "source": [
        "# import torch\n",
        "# from sklearn.metrics import confusion_matrix\n",
        "# import numpy as np\n",
        "\n",
        "# true_labels = []\n",
        "# pred_labels = []\n",
        "\n",
        "# # Collect predictions\n",
        "# network.eval()\n",
        "# with torch.no_grad():\n",
        "#     for i in range(len(train_dataset)):\n",
        "#         sample, label = train_dataset[i]\n",
        "#         pred = network.predict(sample.unsqueeze(0).to(device))\n",
        "#         true_labels.append(label)\n",
        "#         pred_labels.append(pred)\n",
        "\n",
        "# # Confusion matrix\n",
        "# conf_mat = confusion_matrix(true_labels, pred_labels, labels=list(range(3)))\n",
        "# print(\"Confusion Matrix:\\n\", conf_mat)\n",
        "\n",
        "# # Convert to numpy\n",
        "# conf_mat = np.array(conf_mat, dtype=np.float32)\n",
        "\n",
        "# # Overall accuracy\n",
        "# overall_accuracy = np.trace(conf_mat) / np.sum(conf_mat)\n",
        "# print(f\"\\nOverall Accuracy: {overall_accuracy:.4f}\")\n",
        "\n",
        "# # Sensitivity and Specificity for each class\n",
        "# print(\"\\nClass-wise Metrics:\")\n",
        "# for i in range(3):\n",
        "#     TP = conf_mat[i, i]\n",
        "#     FN = np.sum(conf_mat[i, :]) - TP\n",
        "#     FP = np.sum(conf_mat[:, i]) - TP\n",
        "#     TN = np.sum(conf_mat) - (TP + FP + FN)\n",
        "\n",
        "#     sensitivity = TP / (TP + FN) if (TP + FN) > 0 else 0\n",
        "#     specificity = TN / (TN + FP) if (TN + FP) > 0 else 0\n",
        "#     class_accuracy = (TP + TN) / (TP + TN + FP + FN) if (TP + TN + FP + FN) > 0 else 0\n",
        "\n",
        "#     print(f\"Class {i}: Accuracy: {class_accuracy:.4f}, Sensitivity (Recall): {sensitivity:.4f}, Specificity: {specificity:.4f}\")\n"
      ]
    },
    {
      "cell_type": "code",
      "source": [
        "import torch\n",
        "from sklearn.metrics import classification_report\n",
        "import numpy as np\n",
        "\n",
        "true_labels = []\n",
        "pred_labels = []\n",
        "\n",
        "network.eval()\n",
        "with torch.no_grad():\n",
        "    for i in range(len(train_dataset)):\n",
        "        sample, label = train_dataset[i]\n",
        "        pred = network.predict(sample.unsqueeze(0).to(device))\n",
        "        true_labels.append(label)\n",
        "        pred_labels.append(pred)\n",
        "\n",
        "target_names = ['COPD (Class 0)', 'Healthy (Class 1)', 'Pneumonia (Class 2)']\n",
        "report = classification_report(\n",
        "    true_labels,\n",
        "    pred_labels,\n",
        "    target_names=target_names,\n",
        "    digits=4\n",
        ")\n",
        "\n",
        "print(\"\\n--- Classification Report for Training Set ---\")\n",
        "print(report)"
      ],
      "metadata": {
        "colab": {
          "base_uri": "https://localhost:8080/"
        },
        "id": "sEnfGZlp3Upw",
        "outputId": "c7b99bc2-28ef-4134-daa9-b3da165068ab"
      },
      "execution_count": null,
      "outputs": [
        {
          "output_type": "stream",
          "name": "stdout",
          "text": [
            "\n",
            "--- Classification Report for Training Set ---\n",
            "                     precision    recall  f1-score   support\n",
            "\n",
            "     COPD (Class 0)     0.9962    0.9654    0.9806       549\n",
            "  Healthy (Class 1)     0.9420    0.9774    0.9594       665\n",
            "Pneumonia (Class 2)     0.9694    0.9587    0.9640       727\n",
            "\n",
            "           accuracy                         0.9670      1941\n",
            "          macro avg     0.9692    0.9672    0.9680      1941\n",
            "       weighted avg     0.9676    0.9670    0.9671      1941\n",
            "\n"
          ]
        }
      ]
    },
    {
      "cell_type": "markdown",
      "metadata": {
        "id": "yZGC0JzPluKx"
      },
      "source": [
        "Part 12: Validation"
      ]
    },
    {
      "cell_type": "code",
      "execution_count": null,
      "metadata": {
        "id": "e3asYkPMlRyU"
      },
      "outputs": [],
      "source": [
        "\n",
        "\n",
        "# true_labels = []\n",
        "# pred_labels = []\n",
        "\n",
        "# # Collect predictions\n",
        "# network.eval()\n",
        "# with torch.no_grad():\n",
        "#     for i in range(len(valid_dataset)):\n",
        "#         sample, label = valid_dataset[i]\n",
        "#         pred = network.predict(sample.unsqueeze(0).to(device))\n",
        "#         true_labels.append(label)\n",
        "#         pred_labels.append(pred)\n",
        "\n",
        "# print(\"Validation result:\\n\")\n",
        "# # Confusion matrix\n",
        "# conf_mat = confusion_matrix(true_labels, pred_labels, labels=list(range(3)))\n",
        "# print(\"Confusion Matrix:\\n\", conf_mat)\n",
        "\n",
        "# # Convert to numpy\n",
        "# conf_mat = np.array(conf_mat, dtype=np.float32)\n",
        "\n",
        "# # Overall accuracy\n",
        "# overall_accuracy = np.trace(conf_mat) / np.sum(conf_mat)\n",
        "# print(f\"\\nOverall Accuracy: {overall_accuracy:.4f}\")\n",
        "\n",
        "# # Sensitivity and Specificity for each class\n",
        "# print(\"\\nClass-wise Metrics:\")\n",
        "# for i in range(3):\n",
        "#     TP = conf_mat[i, i]\n",
        "#     FN = np.sum(conf_mat[i, :]) - TP\n",
        "#     FP = np.sum(conf_mat[:, i]) - TP\n",
        "#     TN = np.sum(conf_mat) - (TP + FP + FN)\n",
        "\n",
        "#     sensitivity = TP / (TP + FN) if (TP + FN) > 0 else 0\n",
        "#     specificity = TN / (TN + FP) if (TN + FP) > 0 else 0\n",
        "#     class_accuracy = (TP + TN) / (TP + TN + FP + FN) if (TP + TN + FP + FN) > 0 else 0\n",
        "\n",
        "#     print(f\"Class {i}: Accuracy: {class_accuracy:.4f}, Sensitivity (Recall): {sensitivity:.4f}, Specificity: {specificity:.4f}\")\n"
      ]
    },
    {
      "cell_type": "markdown",
      "metadata": {
        "id": "L6k-ATU4yspW"
      },
      "source": [
        "Part 13: Testing"
      ]
    },
    {
      "cell_type": "code",
      "execution_count": null,
      "metadata": {
        "id": "sYMCA3KpgJI4"
      },
      "outputs": [],
      "source": [
        "\n",
        "\n",
        "# true_labels = []\n",
        "# pred_labels = []\n",
        "\n",
        "# # Collect predictions\n",
        "# network.eval()\n",
        "# with torch.no_grad():\n",
        "#     for i in range(len(test_dataset)):\n",
        "#         sample, label = test_dataset[i]\n",
        "#         pred = network.predict(sample.unsqueeze(0).to(device))\n",
        "#         true_labels.append(label)\n",
        "#         pred_labels.append(pred)\n",
        "\n",
        "# # Confusion matrix\n",
        "# conf_mat = confusion_matrix(true_labels, pred_labels, labels=list(range(3)))\n",
        "# print(\"Confusion Matrix:\\n\", conf_mat)\n",
        "\n",
        "# # Convert to numpy\n",
        "# conf_mat = np.array(conf_mat, dtype=np.float32)\n",
        "\n",
        "# # Overall accuracy\n",
        "# overall_accuracy = np.trace(conf_mat) / np.sum(conf_mat)\n",
        "# print(f\"\\nOverall Accuracy: {overall_accuracy:.4f}\")\n",
        "\n",
        "# # Sensitivity and Specificity for each class\n",
        "# print(\"\\nClass-wise Metrics:\")\n",
        "# for i in range(3):\n",
        "#     TP = conf_mat[i, i]\n",
        "#     FN = np.sum(conf_mat[i, :]) - TP\n",
        "#     FP = np.sum(conf_mat[:, i]) - TP\n",
        "#     TN = np.sum(conf_mat) - (TP + FP + FN)\n",
        "\n",
        "#     sensitivity = TP / (TP + FN) if (TP + FN) > 0 else 0\n",
        "#     specificity = TN / (TN + FP) if (TN + FP) > 0 else 0\n",
        "#     class_accuracy = (TP + TN) / (TP + TN + FP + FN) if (TP + TN + FP + FN) > 0 else 0\n",
        "\n",
        "#     print(f\"Class {i}: Accuracy: {class_accuracy:.4f}, Sensitivity (Recall): {sensitivity:.4f}, Specificity: {specificity:.4f}\")\n"
      ]
    },
    {
      "cell_type": "code",
      "source": [
        "import torch\n",
        "from sklearn.metrics import classification_report\n",
        "import numpy as np\n",
        "\n",
        "true_labels = []\n",
        "pred_labels = []\n",
        "\n",
        "network.eval()\n",
        "with torch.no_grad():\n",
        "    for i in range(len(test_dataset)):\n",
        "        sample, label = test_dataset[i]\n",
        "        pred = network.predict(sample.unsqueeze(0).to(device))\n",
        "        true_labels.append(label)\n",
        "        pred_labels.append(pred)\n",
        "\n",
        "target_names = ['COPD (Class 0)', 'Healthy (Class 1)', 'Pneumonia (Class 2)']\n",
        "report = classification_report(\n",
        "    true_labels,\n",
        "    pred_labels,\n",
        "    target_names=target_names,\n",
        "    digits=4\n",
        ")\n",
        "\n",
        "print(\"\\n--- Classification Report for Test Set ---\")\n",
        "print(report)"
      ],
      "metadata": {
        "colab": {
          "base_uri": "https://localhost:8080/"
        },
        "id": "GuaqevS99wWv",
        "outputId": "c37f380a-3cbe-4ecd-fb18-2260885d3163"
      },
      "execution_count": null,
      "outputs": [
        {
          "output_type": "stream",
          "name": "stdout",
          "text": [
            "\n",
            "--- Classification Report for Test Set ---\n",
            "                     precision    recall  f1-score   support\n",
            "\n",
            "     COPD (Class 0)     0.9573    0.9180    0.9372       244\n",
            "  Healthy (Class 1)     0.8733    0.9129    0.8927       287\n",
            "Pneumonia (Class 2)     0.8960    0.8870    0.8915       301\n",
            "\n",
            "           accuracy                         0.9050       832\n",
            "          macro avg     0.9089    0.9060    0.9071       832\n",
            "       weighted avg     0.9061    0.9050    0.9053       832\n",
            "\n"
          ]
        }
      ]
    },
    {
      "cell_type": "markdown",
      "metadata": {
        "id": "nBUgzdaecSM4"
      },
      "source": [
        "Part 14: epochs vs loss"
      ]
    },
    {
      "cell_type": "code",
      "execution_count": null,
      "metadata": {
        "id": "cshf8qTLMIXx"
      },
      "outputs": [],
      "source": [
        "train_losses\n",
        "epochs = range(1, len(train_losses) + 1)"
      ]
    },
    {
      "cell_type": "code",
      "execution_count": null,
      "metadata": {
        "id": "ChYxJmZXnsoX",
        "colab": {
          "base_uri": "https://localhost:8080/",
          "height": 487
        },
        "outputId": "dfaa84d4-b6a3-4d69-a06f-eba0203383b7"
      },
      "outputs": [
        {
          "output_type": "display_data",
          "data": {
            "text/plain": [
              "<Figure size 800x500 with 1 Axes>"
            ],
            "image/png": "[encoded data removed]"
          },
          "metadata": {}
        }
      ],
      "source": [
        "plt.figure(figsize=(8, 5))  # Set figure size\n",
        "plt.plot(epochs, train_losses, 'b-', label='Training Loss')  # 'b-' = blue solid line\n",
        "plt.title('Training Loss vs. Epochs')\n",
        "plt.xlabel('Epochs')\n",
        "plt.ylabel('Loss')\n",
        "plt.legend()\n",
        "plt.grid(True)  # Add grid lines\n",
        "plt.show()"
      ]
    },
    {
      "cell_type": "code",
      "source": [
        "model = Net().to(device)\n",
        "\n",
        "# Calculate the total number of trainable parameters\n",
        "total_params = sum(p.numel() for p in model.parameters() if p.requires_grad)\n",
        "\n",
        "print(f\"--- Model Parameter Analysis ---\")\n",
        "print(f\"Total Trainable Parameters: {total_params:,}\") # The :, adds commas for readability\n",
        "print(\"---------------------------------\")"
      ],
      "metadata": {
        "colab": {
          "base_uri": "https://localhost:8080/"
        },
        "id": "ocD6Zm5F_HQm",
        "outputId": "f295b318-81d5-4411-ec35-f4160e4d2ab5"
      },
      "execution_count": null,
      "outputs": [
        {
          "output_type": "stream",
          "name": "stdout",
          "text": [
            "--- Model Parameter Analysis ---\n",
            "Total Trainable Parameters: 109,115\n",
            "---------------------------------\n"
          ]
        }
      ]
    },
    {
      "cell_type": "code",
      "source": [
        "print(f\"--- Layer-by-Layer Parameter Breakdown ---\")\n",
        "total_params = 0\n",
        "for name, parameter in model.named_parameters():\n",
        "    if not parameter.requires_grad:\n",
        "        continue\n",
        "    params = parameter.numel()\n",
        "    print(f\"{name:<40} | Shape: {str(list(parameter.shape)):<20} | Params: {params:,}\")\n",
        "    total_params += params\n",
        "\n",
        "print(\"---------------------------------------------------------\")\n",
        "print(f\"Total Trainable Parameters: {total_params:,}\")"
      ],
      "metadata": {
        "id": "9xLLNg5S_gzo",
        "outputId": "88993976-b7d2-4d8b-f011-d47feba2fc1b",
        "colab": {
          "base_uri": "https://localhost:8080/"
        }
      },
      "execution_count": null,
      "outputs": [
        {
          "output_type": "stream",
          "name": "stdout",
          "text": [
            "--- Layer-by-Layer Parameter Breakdown ---\n",
            "conv_layers.0.weight                     | Shape: [32, 1, 3, 3]        | Params: 288\n",
            "conv_layers.0.bias                       | Shape: [32]                 | Params: 32\n",
            "conv_layers.1.weight                     | Shape: [64, 32, 3, 3]       | Params: 18,432\n",
            "conv_layers.1.bias                       | Shape: [64]                 | Params: 64\n",
            "conv_layers.2.weight                     | Shape: [128, 64, 3, 3]      | Params: 73,728\n",
            "conv_layers.2.bias                       | Shape: [128]                | Params: 128\n",
            "fc4.weight                               | Shape: [8, 2048]            | Params: 16,384\n",
            "fc4.bias                                 | Shape: [8]                  | Params: 8\n",
            "fc5.weight                               | Shape: [3, 16]              | Params: 48\n",
            "fc5.bias                                 | Shape: [3]                  | Params: 3\n",
            "---------------------------------------------------------\n",
            "Total Trainable Parameters: 109,115\n"
          ]
        }
      ]
    },
    {
      "cell_type": "markdown",
      "source": [
        "for  any config, training loss vs epochs is straight line"
      ],
      "metadata": {
        "id": "LZzNyPc7humD"
      }
    },
    {
      "cell_type": "markdown",
      "metadata": {
        "id": "1UBRLGDMcWFX"
      },
      "source": [
        "Part 15:"
      ]
    },
    {
      "cell_type": "markdown",
      "metadata": {
        "id": "4WlUDaeu0bmJ"
      },
      "source": [
        "Hyper parameter tuning:"
      ]
    },
    {
      "cell_type": "markdown",
      "metadata": {
        "id": "7tytREUi0ecX"
      },
      "source": [
        "1. finding best lr keeping others fixed."
      ]
    },
    {
      "cell_type": "markdown",
      "metadata": {
        "id": "Tnn1SeSn0jTO"
      },
      "source": [
        "results:\n",
        "gray scale\n",
        "1. LR: 0.01 => Tr: 37.88, V:37.09, Te:33.81\n",
        "2. LR: 0.001 => Tr: 87.97, V: 81.24, Te: 82.49\n",
        "3. LR: 0.0001 => Tr:49.07 , V:48.20 , Te: 49.16"
      ]
    },
    {
      "cell_type": "markdown",
      "metadata": {
        "id": "KHsh9wbfwjWh"
      },
      "source": [
        "32,64,128 => tr:96.39, valid: 87.3, test:83.3\n",
        "\n",
        "16,32,64 => test: 82.49\n",
        "\n",
        "16,32 => tr: 88.47, v: 82.4, t: 78.42"
      ]
    },
    {
      "cell_type": "markdown",
      "metadata": {
        "id": "qu5s5GXFxzHY"
      },
      "source": [
        "Notice that the training accuracy (96.39%) is much higher than the validation/test accuracy (~85%). This gap indicates that the model is starting to overfit, which is very normal for a more powerful network. It's \"memorizing\" the training data a bit too well. We can address this with regularization techniques later."
      ]
    },
    {
      "cell_type": "markdown",
      "source": [
        "Now with weight decay and dropout,"
      ],
      "metadata": {
        "id": "YCFhsEIBBirA"
      }
    },
    {
      "cell_type": "markdown",
      "source": [
        "**hard-coded results**"
      ],
      "metadata": {
        "id": "bjhQTm_UdjYM"
      }
    },
    {
      "cell_type": "code",
      "execution_count": null,
      "metadata": {
        "id": "JTsncI2zq3HH"
      },
      "outputs": [],
      "source": [
        "# import numpy as np\n",
        "# import matplotlib.pyplot as plt\n",
        "# import seaborn as sns\n",
        "\n",
        "# # Your confusion matrix\n",
        "# cm = np.array([\n",
        "#     [361,   0,   0,   1,   0,   0],\n",
        "#     [  3, 259,   4,  10,   2,   9],\n",
        "#     [  0,   2, 631,   3,   4,   0],\n",
        "#     [  0,   0,   0, 732,  19,   2],\n",
        "#     [  0,   0,   0,   3, 810,   3],\n",
        "#     [  0,   2,   0,  10,   3, 494]\n",
        "# ])\n",
        "\n",
        "# # Class labels\n",
        "# classes =  [\"Bronchiectasis\", \"Bronchiolitis\", \"COPD\", \"Healthy\", \"Pneumonia\", \"URTI\"]\n",
        "\n",
        "# # Create the plot\n",
        "# plt.figure(figsize=(10, 8))\n",
        "# ax = sns.heatmap(\n",
        "#     cm,\n",
        "#     annot=True,\n",
        "#     fmt=\"d\",\n",
        "#     cmap=\"Blues\",\n",
        "#     xticklabels=classes,\n",
        "#     yticklabels=classes,\n",
        "#     linewidths=0.5,      # Add borders between cells\n",
        "#     linecolor='black',   # Border color\n",
        "#     cbar=True          # Remove color bar for simplicity (optional)\n",
        "# )\n",
        "\n",
        "# # Enhance readability\n",
        "# ax.set_title(\"Confusion Matrix of Training Dataset\", fontsize=14)\n",
        "# ax.set_xlabel(\"Predicted Label\", fontsize=12)\n",
        "# ax.set_ylabel(\"True Label\", fontsize=12)\n",
        "\n",
        "# # Save and show\n",
        "# plt.savefig(\"confusion_matrix_boxed.png\", dpi=300, bbox_inches=\"tight\")\n",
        "# plt.show()"
      ]
    },
    {
      "cell_type": "code",
      "execution_count": null,
      "metadata": {
        "id": "Y5yxBw3ItNI3"
      },
      "outputs": [],
      "source": [
        "# import numpy as np\n",
        "# import matplotlib.pyplot as plt\n",
        "# import seaborn as sns\n",
        "\n",
        "# # Your confusion matrix\n",
        "# cm = np.array([\n",
        "#     # Predicted: Bronchiectasis, Bronchiolitis, COPD, Healthy, Pneumonia, URTI\n",
        "#     [82,   0,   0,   0,   0,   0],   # True: Bronchiectasis\n",
        "#     [ 5,  57,   1,   4,   1,  12],   # True: Bronchiolitis\n",
        "#     [ 0,   1, 150,   1,   0,   0],   # True: COPD\n",
        "#     [ 0,   0,   3, 177,   3,   1],   # True: Healthy\n",
        "#     [ 0,   0,   1,   0, 185,   1],   # True: Pneumonia\n",
        "#     [ 0,   0,   0,   0,   1, 121]    # True: URTI\n",
        "# ])\n",
        "\n",
        "# # Class labels\n",
        "# classes =  [\"Bronchiectasis\", \"Bronchiolitis\", \"COPD\", \"Healthy\", \"Pneumonia\", \"URTI\"]\n",
        "\n",
        "# # Create the plot\n",
        "# plt.figure(figsize=(10, 8))\n",
        "# ax = sns.heatmap(\n",
        "#     cm,\n",
        "#     annot=True,\n",
        "#     fmt=\"d\",\n",
        "#     cmap=\"Blues\",\n",
        "#     xticklabels=classes,\n",
        "#     yticklabels=classes,\n",
        "#     linewidths=0.5,      # Add borders between cells\n",
        "#     linecolor='black',   # Border color\n",
        "#     cbar=True          # Remove color bar for simplicity (optional)\n",
        "# )\n",
        "\n",
        "# # Enhance readability\n",
        "# ax.set_title(\"Confusion Matrix of Testing Dataset\", fontsize=14)\n",
        "# ax.set_xlabel(\"Predicted Label\", fontsize=12)\n",
        "# ax.set_ylabel(\"True Label\", fontsize=12)\n",
        "\n",
        "# # Save and show\n",
        "# plt.savefig(\"confusion_matrix_boxed.png\", dpi=300, bbox_inches=\"tight\")\n",
        "# plt.show()"
      ]
    },
    {
      "cell_type": "code",
      "execution_count": null,
      "metadata": {
        "id": "1kWIBP1Cr-J_"
      },
      "outputs": [],
      "source": [
        "# import numpy as np\n",
        "# from sklearn.metrics import precision_score, recall_score, f1_score, accuracy_score\n",
        "# from tabulate import tabulate\n",
        "\n",
        "# # Your confusion matrix\n",
        "# cm = np.array([\n",
        "#     [361,   0,   0,   1,   0,   0],\n",
        "#     [  3, 259,   4,  10,   2,   9],\n",
        "#     [  0,   2, 631,   3,   4,   0],\n",
        "#     [  0,   0,   0, 732,  19,   2],\n",
        "#     [  0,   0,   0,   3, 810,   3],\n",
        "#     [  0,   2,   0,  10,   3, 494]\n",
        "# ])\n",
        "\n",
        "# # Generate labels\n",
        "# y_true, y_pred = [], []\n",
        "# for i in range(len(cm)):\n",
        "#     for j in range(len(cm[i])):\n",
        "#         y_true.extend([i] * cm[i][j])\n",
        "#         y_pred.extend([j] * cm[i][j])\n",
        "\n",
        "# # Calculate metrics\n",
        "# metrics = {\n",
        "#     \"Accuracy\": [accuracy_score(y_true, y_pred)],\n",
        "#     \"Weighted Precision\": [precision_score(y_true, y_pred, average='weighted')],\n",
        "#     \"Weighted Recall\": [recall_score(y_true, y_pred, average='weighted')],\n",
        "#     \"Weighted F1\": [f1_score(y_true, y_pred, average='weighted')]\n",
        "# }\n",
        "\n",
        "# # Per-class metrics\n",
        "# classes = [\"Bronchiectasis\", \"Bronchiolitis\", \"COPD\", \"Healthy\", \"Pneumonia\", \"URTI\"]\n",
        "\n",
        "# precision_per = precision_score(y_true, y_pred, average=None)\n",
        "# recall_per = recall_score(y_true, y_pred, average=None)\n",
        "# f1_per = f1_score(y_true, y_pred, average=None)\n",
        "\n",
        "# # Create tables\n",
        "# print(\"OVERALL METRICS\")\n",
        "# print(tabulate([[k, f\"{v[0]:.4f}\"] for k,v in metrics.items()],\n",
        "#                headers=[\"Metric\", \"Value\"], tablefmt=\"grid\"))\n",
        "\n",
        "# print(\"\\nPER-CLASS METRICS\")\n",
        "# per_class_data = []\n",
        "# for i, cls in enumerate(classes):\n",
        "#     per_class_data.append([\n",
        "#         cls,\n",
        "#         f\"{precision_per[i]:.4f}\",\n",
        "#         f\"{recall_per[i]:.4f}\",\n",
        "#         f\"{f1_per[i]:.4f}\"\n",
        "#     ])\n",
        "# print(tabulate(per_class_data,\n",
        "#                headers=[\"Class\", \"Precision\", \"Recall\", \"F1-Score\"],\n",
        "#                tablefmt=\"grid\"))"
      ]
    },
    {
      "cell_type": "code",
      "execution_count": null,
      "metadata": {
        "id": "mB3K7Cq-tYM2"
      },
      "outputs": [],
      "source": [
        "# import numpy as np\n",
        "# from sklearn.metrics import precision_score, recall_score, f1_score, accuracy_score\n",
        "# from tabulate import tabulate\n",
        "\n",
        "# # Your confusion matrix\n",
        "# cm = np.array([\n",
        "#     # Predicted: Bronchiectasis, Bronchiolitis, COPD, Healthy, Pneumonia, URTI\n",
        "#     [82,   0,   0,   0,   0,   0],   # True: Bronchiectasis\n",
        "#     [ 5,  57,   1,   4,   1,  12],   # True: Bronchiolitis\n",
        "#     [ 0,   1, 150,   1,   0,   0],   # True: COPD\n",
        "#     [ 0,   0,   3, 177,   3,   1],   # True: Healthy\n",
        "#     [ 0,   0,   1,   0, 185,   1],   # True: Pneumonia\n",
        "#     [ 0,   0,   0,   0,   1, 121]    # True: URTI\n",
        "# ])\n",
        "\n",
        "# # Generate labels\n",
        "# y_true, y_pred = [], []\n",
        "# for i in range(len(cm)):\n",
        "#     for j in range(len(cm[i])):\n",
        "#         y_true.extend([i] * cm[i][j])\n",
        "#         y_pred.extend([j] * cm[i][j])\n",
        "\n",
        "# # Calculate metrics\n",
        "# metrics = {\n",
        "#     \"Accuracy\": [accuracy_score(y_true, y_pred)],\n",
        "#     \"Weighted Precision\": [precision_score(y_true, y_pred, average='weighted')],\n",
        "#     \"Weighted Recall\": [recall_score(y_true, y_pred, average='weighted')],\n",
        "#     \"Weighted F1\": [f1_score(y_true, y_pred, average='weighted')]\n",
        "# }\n",
        "\n",
        "# # Per-class metrics\n",
        "# classes = [\"Bronchiectasis\", \"Bronchiolitis\", \"COPD\", \"Healthy\", \"Pneumonia\", \"URTI\"]\n",
        "\n",
        "# precision_per = precision_score(y_true, y_pred, average=None)\n",
        "# recall_per = recall_score(y_true, y_pred, average=None)\n",
        "# f1_per = f1_score(y_true, y_pred, average=None)\n",
        "\n",
        "# # Create tables\n",
        "# print(\"OVERALL METRICS\")\n",
        "# print(tabulate([[k, f\"{v[0]:.4f}\"] for k,v in metrics.items()],\n",
        "#                headers=[\"Metric\", \"Value\"], tablefmt=\"grid\"))\n",
        "\n",
        "# print(\"\\nPER-CLASS METRICS\")\n",
        "# per_class_data = []\n",
        "# for i, cls in enumerate(classes):\n",
        "#     per_class_data.append([\n",
        "#         cls,\n",
        "#         f\"{precision_per[i]:.4f}\",\n",
        "#         f\"{recall_per[i]:.4f}\",\n",
        "#         f\"{f1_per[i]:.4f}\"\n",
        "#     ])\n",
        "# print(tabulate(per_class_data,\n",
        "#                headers=[\"Class\", \"Precision\", \"Recall\", \"F1-Score\"],\n",
        "#                tablefmt=\"grid\"))"
      ]
    }
  ],
  "metadata": {
    "colab": {
      "provenance": [],
      "gpuType": "T4"
    },
    "kernelspec": {
      "display_name": "Python 3",
      "name": "python3"
    },
    "language_info": {
      "name": "python"
    },
    "accelerator": "GPU"
  },
  "nbformat": 4,
  "nbformat_minor": 0
}
